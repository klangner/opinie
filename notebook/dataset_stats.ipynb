{
 "metadata": {
  "name": "dataset_stats"
 },
 "nbformat": 3,
 "nbformat_minor": 0,
 "worksheets": [
  {
   "cells": [
    {
     "cell_type": "heading",
     "level": 1,
     "metadata": {},
     "source": [
      "Statystka zbioru danych opinii "
     ]
    },
    {
     "cell_type": "code",
     "collapsed": false,
     "input": [
      "import pandas as pd\n",
      "import gzip\n",
      "import matplotlib.pyplot as plt"
     ],
     "language": "python",
     "metadata": {},
     "outputs": [],
     "prompt_number": 36
    },
    {
     "cell_type": "code",
     "collapsed": false,
     "input": [
      "f = gzip.open('../datasets/bonprix.json.gz', 'r')\n",
      "df = pd.read_json(f.read())\n",
      "f.close()\n",
      "df"
     ],
     "language": "python",
     "metadata": {},
     "outputs": [
      {
       "html": [
        "<pre>\n",
        "&lt;class 'pandas.core.frame.DataFrame'&gt;\n",
        "Int64Index: 8941 entries, 0 to 8940\n",
        "Data columns (total 5 columns):\n",
        "id           8941  non-null values\n",
        "notUseful    8941  non-null values\n",
        "score        8941  non-null values\n",
        "text         8941  non-null values\n",
        "useful       8941  non-null values\n",
        "dtypes: int64(3), object(2)\n",
        "</pre>"
       ],
       "output_type": "pyout",
       "prompt_number": 35,
       "text": [
        "<class 'pandas.core.frame.DataFrame'>\n",
        "Int64Index: 8941 entries, 0 to 8940\n",
        "Data columns (total 5 columns):\n",
        "id           8941  non-null values\n",
        "notUseful    8941  non-null values\n",
        "score        8941  non-null values\n",
        "text         8941  non-null values\n",
        "useful       8941  non-null values\n",
        "dtypes: int64(3), object(2)"
       ]
      }
     ],
     "prompt_number": 35
    },
    {
     "cell_type": "code",
     "collapsed": false,
     "input": [
      "df.head()"
     ],
     "language": "python",
     "metadata": {},
     "outputs": [
      {
       "html": [
        "<div style=\"max-height:1000px;max-width:1500px;overflow:auto;\">\n",
        "<table border=\"1\" class=\"dataframe\">\n",
        "  <thead>\n",
        "    <tr style=\"text-align: right;\">\n",
        "      <th></th>\n",
        "      <th>id</th>\n",
        "      <th>notUseful</th>\n",
        "      <th>score</th>\n",
        "      <th>text</th>\n",
        "      <th>useful</th>\n",
        "    </tr>\n",
        "  </thead>\n",
        "  <tbody>\n",
        "    <tr>\n",
        "      <th>0</th>\n",
        "      <td> http://www.bonprix.pl/produkt/22614#130099</td>\n",
        "      <td> 0</td>\n",
        "      <td> 5</td>\n",
        "      <td> Super \u017cakiecik a nawet kurteczka.\\r\\nRozmiar i...</td>\n",
        "      <td> 0</td>\n",
        "    </tr>\n",
        "    <tr>\n",
        "      <th>1</th>\n",
        "      <td> http://www.bonprix.pl/produkt/22614#129830</td>\n",
        "      <td> 0</td>\n",
        "      <td> 3</td>\n",
        "      <td> Kolor zupe\u0142nie inny, ni\u017c na zdj\u0119ciu. Fason mo\u017c...</td>\n",
        "      <td> 1</td>\n",
        "    </tr>\n",
        "    <tr>\n",
        "      <th>2</th>\n",
        "      <td> http://www.bonprix.pl/produkt/22614#125654</td>\n",
        "      <td> 0</td>\n",
        "      <td> 4</td>\n",
        "      <td> \u017bakiet ma ja\u015bniejszy kolor,ale \u0142adniejszy ni\u017c ...</td>\n",
        "      <td> 4</td>\n",
        "    </tr>\n",
        "    <tr>\n",
        "      <th>3</th>\n",
        "      <td> http://www.bonprix.pl/produkt/22614#118914</td>\n",
        "      <td> 0</td>\n",
        "      <td> 5</td>\n",
        "      <td> Zakupi\u0142am komplet, \u017cakiet dobrze uszyty i na r...</td>\n",
        "      <td> 1</td>\n",
        "    </tr>\n",
        "    <tr>\n",
        "      <th>4</th>\n",
        "      <td> http://www.bonprix.pl/produkt/22614#118306</td>\n",
        "      <td> 0</td>\n",
        "      <td> 5</td>\n",
        "      <td> \u017bakiecik ja\u015bniejszy ni\u017c na zdj\u0119ciu ale bardzo ...</td>\n",
        "      <td> 1</td>\n",
        "    </tr>\n",
        "  </tbody>\n",
        "</table>\n",
        "</div>"
       ],
       "output_type": "pyout",
       "prompt_number": 12,
       "text": [
        "                                           id  notUseful  score  \\\n",
        "0  http://www.bonprix.pl/produkt/22614#130099          0      5   \n",
        "1  http://www.bonprix.pl/produkt/22614#129830          0      3   \n",
        "2  http://www.bonprix.pl/produkt/22614#125654          0      4   \n",
        "3  http://www.bonprix.pl/produkt/22614#118914          0      5   \n",
        "4  http://www.bonprix.pl/produkt/22614#118306          0      5   \n",
        "\n",
        "                                                text  useful  \n",
        "0  Super \u017cakiecik a nawet kurteczka.\\r\\nRozmiar i...       0  \n",
        "1  Kolor zupe\u0142nie inny, ni\u017c na zdj\u0119ciu. Fason mo\u017c...       1  \n",
        "2  \u017bakiet ma ja\u015bniejszy kolor,ale \u0142adniejszy ni\u017c ...       4  \n",
        "3  Zakupi\u0142am komplet, \u017cakiet dobrze uszyty i na r...       1  \n",
        "4  \u017bakiecik ja\u015bniejszy ni\u017c na zdj\u0119ciu ale bardzo ...       1  "
       ]
      }
     ],
     "prompt_number": 12
    },
    {
     "cell_type": "heading",
     "level": 2,
     "metadata": {},
     "source": [
      "Sprawdzenie czy zbi\u00f3r nie zawiera podw\u00f3jnych rekord\u00f3w (czyli rekord\u00f3w o tych samych id)"
     ]
    },
    {
     "cell_type": "code",
     "collapsed": false,
     "input": [
      "df['id'].describe()"
     ],
     "language": "python",
     "metadata": {},
     "outputs": [
      {
       "output_type": "pyout",
       "prompt_number": 16,
       "text": [
        "count                                           8941\n",
        "unique                                          8941\n",
        "top       http://www.bonprix.pl/produkt/25576#123112\n",
        "freq                                               1\n",
        "dtype: object"
       ]
      }
     ],
     "prompt_number": 16
    },
    {
     "cell_type": "heading",
     "level": 2,
     "metadata": {},
     "source": [
      "Rozk\u0142ad ocen"
     ]
    },
    {
     "cell_type": "code",
     "collapsed": false,
     "input": [
      "score_groups = df['id'].groupby(df['score'])\n",
      "scores = score_groups.count()\n",
      "scores\n",
      "fig = plt.figure()\n",
      "ax = fig.add_subplot(1,1,1)\n",
      "ax.bar(scores.index, scores, align='center')\n",
      "plt.show()    "
     ],
     "language": "python",
     "metadata": {},
     "outputs": [
      {
       "output_type": "display_data",
       "png": "[encoded data removed]"
      }
     ],
     "prompt_number": 46
    }
   ],
   "metadata": {}
  }
 ]
}